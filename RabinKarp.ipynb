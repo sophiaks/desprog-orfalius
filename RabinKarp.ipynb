{
 "cells": [
  {
   "cell_type": "code",
   "execution_count": 47,
   "id": "5c937837",
   "metadata": {},
   "outputs": [],
   "source": [
    " \n",
    "def RabinKarp(pat, txt):\n",
    "    M = len(pat)\n",
    "    N = len(txt)\n",
    "    p = 0    # hash value for pattern\n",
    "    t = 0    # hash value for txt\n",
    " \n",
    "    # Calculate the hash value of pattern and first window\n",
    "    # of text\n",
    "    for i in range(M):\n",
    "        p += (ord(pat[i]))\n",
    "        t += (ord(txt[i]))\n",
    " \n",
    "    # Slide the pattern over text one by one\n",
    "    for i in range(N-M+1):\n",
    "        # Check the hash values of current window of text and\n",
    "        # pattern if the hash values match then only check\n",
    "        # for characters on by one\n",
    "        if p==t:\n",
    "            # Check for characters one by one\n",
    "            for j in range(M):\n",
    "                if txt[i+j] != pat[j]:\n",
    "                    break\n",
    "                else: j+=1\n",
    " \n",
    "            # if p == t and pat[0...M-1] = txt[i, i+1, ...i+M-1]\n",
    "            if j==M:\n",
    "                print(\"Pattern found at index \" + str(i))\n",
    " \n",
    "        # Calculate hash value for next window of text: Remove\n",
    "        # leading digit, add trailing digit\n",
    "        if i < N-M:\n",
    "            t = (t-ord(txt[i])) + ord(txt[i+M])\n",
    " \n",
    "\n",
    " "
   ]
  },
  {
   "cell_type": "code",
   "execution_count": 50,
   "id": "2fa236ce",
   "metadata": {},
   "outputs": [
    {
     "name": "stdout",
     "output_type": "stream",
     "text": [
      "Pattern found at index 219\n",
      "Pattern found at index 1160\n",
      "Pattern found at index 1831\n"
     ]
    }
   ],
   "source": [
    "# Driver Code\n",
    "txt = \"dfjnviwfbwgvuiwbrfug3obu3obrfgheguyigb3yirfbvgfyvy73rvby7r3tbvy73rbvy73fbeurfbwy7gvg2y7rg \\\n",
    "       eerwreeeeeeeeeeeeeeeeeeeeeeeeeeeeeeeeeedfssbdfyusbfuysyfusbfusydfbfdybfydfsdfsdbfuysfyusbfdbf \\\n",
    "       fergergergrgrgrgrgrgrCOMgrgrgffbaubvwfvuvbuibvuwbfivyfbwyuibvuywbfvyuwvbuwbyvudbwibfyuwvbfuywbvu \\\n",
    "       fvduwivbviuvfyubvwyuibdviyubwfvbiuwbyrfbvyrweybvyurwbvwuyivbrvbiyuwbvuwbvuriwyviwvyrwvburbvyurvuye \\\n",
    "       rfeubvubvyubyvbrwyvbyebv7ebe7grvywegc7wgc67wg6ge6f6efr6w7fr67efr7w6fer6fwe67frw67rfewfr7fwe67rfwe7 \\\n",
    "       wfbweubewubeufbfeyfwuefywefyuwehwed90weuf9euf9euf9euf9euf9euf8efu8euf8ru8fu8u8vu8uf8ef8fe8fu8ef8eu \\\n",
    "       ctucrcrrdrdextgfygeryiuhregurtuhhtrughruhguthguthughtughtughtughtughtughtughtughtughtguthgtughuthut \\\n",
    "       wyuiregfyegcwy7geft7qegbqwghdgqwvegqfgweqvwdtgew8frhg8ruhg8ehsuhgw9yhgruigifdjgidfjidj8eujiwjtuh3ujo \\\n",
    "       tfyreyfrfvwhbqifvebqehfbhrbhbfhebfybeyfbhbfsbhfbhdbfgsbdfhbdgbfgedvfywgfyg3fgtwgfe6ge6gefgtegfegf6 \\\n",
    "       dfjnviwfbwgvuiwbrfug3obu3obrfgheguyigb3yirfbvgfyvy73rvby7r3tbvy73rbvy73fbeurfbwy7gvg2y7rg \\\n",
    "       eerwreeeeeeeeeeeeeeeeeeeeeeeeeeeeeeeeeedfssbdfyusbfuysyfusbfusydfbfdybfydfsdfsdbfuysfyusbfdbf \\\n",
    "       fergergergrgrgrgrgrgrCOMgrgrgffbaubvwfvuvbuibvuwbfivyfbwyuibvuywbfvyuwvbuwbyvudbwiwbvu \\\n",
    "       fvduwivbviuvfyubvwyuibdviyubwfvbiuwbyrfbvyrweybvyurwbvwuyivbrvbiyuwbvuwbvuriwyviwvyrwvburbvyurvuye \\\n",
    "       rfeubvubvyubyvbrwyvbyebv7ebe7grvywegc7wgc67wg6ge6f6efr6w7fr67efr7w6fer6fwe67frw67rferfwe7 \\\n",
    "       wfbweubewubeufbfeyfwuefywefyuwehwed90weuf9euf9euf9euf9euf9euf8efu8euf8ru8fu8u8vu8uf8efeu \\\n",
    "       ctucrcrrdrdextgfygeryiuhregurtuhhtrughruhguthguthughtughtughtughtughtughtughtughtughtguthgtughuthut \\\n",
    "       wyuiregfyegcwy7geft7qegbqwghdgqwvegqfgweqvwdtgew8frhg8ruhg8ehsuhgw9yhgruigifdjgidfjidj8eujo \\\n",
    "       tfyreyfrfvwhbqifvebqehfbhrbhbfhebfybeyfbhbfsbhfbhdbfgsbdfhbdgbfgedvfywgfyg3fgtwgfe6ge6gefgtegCOM\"\n",
    "pat = \"COM\"\n",
    " \n",
    "# Function Call\n",
    "RabinKarp(pat,txt)\n",
    " \n",
    "# This code is contributed by Bhavya Jain"
   ]
  },
  {
   "cell_type": "code",
   "execution_count": null,
   "id": "068151ad",
   "metadata": {},
   "outputs": [],
   "source": []
  }
 ],
 "metadata": {
  "kernelspec": {
   "display_name": "Python 3",
   "language": "python",
   "name": "python3"
  },
  "language_info": {
   "codemirror_mode": {
    "name": "ipython",
    "version": 3
   },
   "file_extension": ".py",
   "mimetype": "text/x-python",
   "name": "python",
   "nbconvert_exporter": "python",
   "pygments_lexer": "ipython3",
   "version": "3.9.2"
  }
 },
 "nbformat": 4,
 "nbformat_minor": 5
}
